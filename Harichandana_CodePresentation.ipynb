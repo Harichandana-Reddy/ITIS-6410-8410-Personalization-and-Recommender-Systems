{
  "nbformat": 4,
  "nbformat_minor": 0,
  "metadata": {
    "colab": {
      "provenance": []
    },
    "kernelspec": {
      "name": "python3",
      "display_name": "Python 3"
    },
    "language_info": {
      "name": "python"
    }
  },
  "cells": [
    {
      "cell_type": "markdown",
      "source": [
        "### **LensKit Introduction**\n",
        "LensKit is a Python library for building, analyzing, and evaluating recommender systems. It provides a set of tools for implementing and evaluating different recommendation algorithms, as well as utilities for loading and preprocessing data.\n",
        "\n",
        "LensKit includes a range of collaborative filtering and content-based recommendation algorithms, as well as tools for combining them to create hybrid recommenders. It also provides support for evaluating recommender performance using standard metrics like recall, precision, and nDCG.\n",
        "\n",
        "LensKit is designed to be easy to use and flexible, with a modular architecture that allows users to easily swap in different algorithms and evaluation methods. It is well-documented and actively maintained, with a growing community of users and contributors.\n"
      ],
      "metadata": {
        "id": "lYp6B8uxwCTP"
      }
    },
    {
      "cell_type": "markdown",
      "source": [
        "We can install the library in our environment using pip and the following line of code :\n",
        "\n",
        "### **Installing the libraries**\n",
        "\n"
      ],
      "metadata": {
        "id": "RromnjGjwBhv"
      }
    },
    {
      "cell_type": "code",
      "source": [
        "!pip install lenskit"
      ],
      "metadata": {
        "colab": {
          "base_uri": "https://localhost:8080/"
        },
        "id": "H-bdZFwp2qzt",
        "outputId": "ee983800-0737-4a1b-b3c2-28e9031a19db"
      },
      "execution_count": 34,
      "outputs": [
        {
          "output_type": "stream",
          "name": "stdout",
          "text": [
            "Looking in indexes: https://pypi.org/simple, https://us-python.pkg.dev/colab-wheels/public/simple/\n",
            "Requirement already satisfied: lenskit in /usr/local/lib/python3.9/dist-packages (0.14.2)\n",
            "Requirement already satisfied: pandas==1.*,>=1.0 in /usr/local/lib/python3.9/dist-packages (from lenskit) (1.4.4)\n",
            "Requirement already satisfied: psutil>=5 in /usr/local/lib/python3.9/dist-packages (from lenskit) (5.9.4)\n",
            "Requirement already satisfied: csr>=0.3.1 in /usr/local/lib/python3.9/dist-packages (from lenskit) (0.4.3)\n",
            "Requirement already satisfied: binpickle>=0.3.2 in /usr/local/lib/python3.9/dist-packages (from lenskit) (0.3.4)\n",
            "Requirement already satisfied: cffi>=1.12.2 in /usr/local/lib/python3.9/dist-packages (from lenskit) (1.15.1)\n",
            "Requirement already satisfied: seedbank>=0.1.0 in /usr/local/lib/python3.9/dist-packages (from lenskit) (0.1.2)\n",
            "Requirement already satisfied: numpy>=1.17 in /usr/local/lib/python3.9/dist-packages (from lenskit) (1.22.4)\n",
            "Requirement already satisfied: scipy>=1.2 in /usr/local/lib/python3.9/dist-packages (from lenskit) (1.10.1)\n",
            "Requirement already satisfied: numba<0.57,>=0.51 in /usr/local/lib/python3.9/dist-packages (from lenskit) (0.56.4)\n",
            "Requirement already satisfied: python-dateutil>=2.8.1 in /usr/local/lib/python3.9/dist-packages (from pandas==1.*,>=1.0->lenskit) (2.8.2)\n",
            "Requirement already satisfied: pytz>=2020.1 in /usr/local/lib/python3.9/dist-packages (from pandas==1.*,>=1.0->lenskit) (2022.7.1)\n",
            "Requirement already satisfied: msgpack>=1.0 in /usr/local/lib/python3.9/dist-packages (from binpickle>=0.3.2->lenskit) (1.0.5)\n",
            "Requirement already satisfied: pycparser in /usr/local/lib/python3.9/dist-packages (from cffi>=1.12.2->lenskit) (2.21)\n",
            "Requirement already satisfied: llvmlite<0.40,>=0.39.0dev0 in /usr/local/lib/python3.9/dist-packages (from numba<0.57,>=0.51->lenskit) (0.39.1)\n",
            "Requirement already satisfied: setuptools in /usr/local/lib/python3.9/dist-packages (from numba<0.57,>=0.51->lenskit) (67.6.1)\n",
            "Requirement already satisfied: anyconfig in /usr/local/lib/python3.9/dist-packages (from seedbank>=0.1.0->lenskit) (0.13.0)\n",
            "Requirement already satisfied: six>=1.5 in /usr/local/lib/python3.9/dist-packages (from python-dateutil>=2.8.1->pandas==1.*,>=1.0->lenskit) (1.16.0)\n"
          ]
        }
      ]
    },
    {
      "cell_type": "code",
      "source": [
        "!pip install surprise"
      ],
      "metadata": {
        "colab": {
          "base_uri": "https://localhost:8080/"
        },
        "id": "phc-u8uN_J6h",
        "outputId": "57eb915a-058c-448a-d16d-4c1d32b501fc"
      },
      "execution_count": 35,
      "outputs": [
        {
          "output_type": "stream",
          "name": "stdout",
          "text": [
            "Looking in indexes: https://pypi.org/simple, https://us-python.pkg.dev/colab-wheels/public/simple/\n",
            "Requirement already satisfied: surprise in /usr/local/lib/python3.9/dist-packages (0.1)\n",
            "Requirement already satisfied: scikit-surprise in /usr/local/lib/python3.9/dist-packages (from surprise) (1.1.3)\n",
            "Requirement already satisfied: joblib>=1.0.0 in /usr/local/lib/python3.9/dist-packages (from scikit-surprise->surprise) (1.1.1)\n",
            "Requirement already satisfied: numpy>=1.17.3 in /usr/local/lib/python3.9/dist-packages (from scikit-surprise->surprise) (1.22.4)\n",
            "Requirement already satisfied: scipy>=1.3.2 in /usr/local/lib/python3.9/dist-packages (from scikit-surprise->surprise) (1.10.1)\n"
          ]
        }
      ]
    },
    {
      "cell_type": "markdown",
      "source": [
        "Note: We will be using the surprise library for loading Dataset.\n",
        "\n",
        "### **Building a Recommender System**\n",
        "The toolkit that will be used for evaluating the recommender system, specifically using the nDCG metric. The full form of nDCG is \"Normalized Discounted Cumulative Gain\", which is a measure of ranking quality that is commonly used in information retrieval and recommender systems.\n",
        "\n",
        "The nDCG metric was developed specifically for evaluating recommendation systems, which is why it is relevant in this context. And the metric is compatible with Python DataFrames, which are a popular way of working with tabular data in Python.\n",
        "\n",
        "The recommender system will be built using a dataset with three columns: \n",
        "\n",
        "Item\n",
        "\n",
        "User\n",
        "\n",
        "Rating\n",
        "\n",
        "These columns represent the items that the system will recommend, the users who will receive the recommendations, and the ratings that users have given to items in the past. These three columns are the minimum required for building a collaborative filtering recommendation system, which is a common technique for building recommender systems based on past user behavior.\n",
        "\n",
        "We will load the dataset from the scikit-surprise library and then we will continue the Data Exploration\n",
        "\n",
        "### **Loading the Dataset**"
      ],
      "metadata": {
        "id": "q8yokD8Wwq8Q"
      }
    },
    {
      "cell_type": "code",
      "source": [
        "import surprise\n",
        "import pandas as pd\n",
        "data = surprise.Dataset.load_builtin('ml-100k')\n",
        "ddir = surprise.get_dataset_dir()\n",
        "r_cols = ['user', 'item', 'rating', 'timestamp']\n",
        "ratings = pd.read_csv(f'{ddir}/ml-100k/ml-100k/u.data', sep='\\t', names=r_cols,\n",
        "                      encoding='latin-1')"
      ],
      "metadata": {
        "id": "KLV4g2mA_Dxo"
      },
      "execution_count": 36,
      "outputs": []
    },
    {
      "cell_type": "markdown",
      "source": [
        "This code loads the ml-100k dataset from the surprise library, which is a popular benchmark dataset for collaborative filtering recommendation systems.\n",
        "\n",
        "The first line imports the surprise library, which is used for building and evaluating recommendation systems. The second line imports the pandas library, which is a popular library for data manipulation and analysis in Python.\n",
        "\n",
        "The third line loads the ml-100k dataset using the load_builtin method in the Dataset class from the surprise library. This method loads one of the built-in datasets in surprise that can be used for testing and experimentation. In this case, ml-100k is a small dataset with 100,000 ratings from 943 users on 1,682 movies.\n",
        "\n",
        "The fourth line uses the get_dataset_dir function from surprise to get the path to the directory where the ml-100k dataset is stored.\n",
        "\n",
        "The fifth line defines a list called r_cols that specifies the names of the columns in the u.data file that contains the ratings data.\n",
        "\n",
        "The sixth line reads the u.data file using pandas and stores the data in a DataFrame called ratings. The sep parameter specifies that the file is tab-separated, and the names parameter specifies the column names using the r_cols list. The encoding parameter specifies the character encoding used in the file.\n",
        "\n",
        "Overall, this code loads the ml-100k dataset into a DataFrame called ratings, which can be used for further data exploration and building a recommendation system.\n",
        "\n",
        "\n",
        "\n"
      ],
      "metadata": {
        "id": "ySZIkrj00389"
      }
    },
    {
      "cell_type": "markdown",
      "source": [
        "We can see that we have the columns of user, item, rating and timestamp."
      ],
      "metadata": {
        "id": "g3ZDfT4dwzov"
      }
    },
    {
      "cell_type": "code",
      "source": [
        "ratings.head()"
      ],
      "metadata": {
        "colab": {
          "base_uri": "https://localhost:8080/",
          "height": 206
        },
        "id": "sLHuTL8_ADPW",
        "outputId": "34685d8b-b880-4401-adf7-6e0de979702b"
      },
      "execution_count": 37,
      "outputs": [
        {
          "output_type": "execute_result",
          "data": {
            "text/plain": [
              "   user  item  rating  timestamp\n",
              "0   196   242       3  881250949\n",
              "1   186   302       3  891717742\n",
              "2    22   377       1  878887116\n",
              "3   244    51       2  880606923\n",
              "4   166   346       1  886397596"
            ],
            "text/html": [
              "\n",
              "  <div id=\"df-8b51bfe4-647e-4b6c-a990-462c03b42ba5\">\n",
              "    <div class=\"colab-df-container\">\n",
              "      <div>\n",
              "<style scoped>\n",
              "    .dataframe tbody tr th:only-of-type {\n",
              "        vertical-align: middle;\n",
              "    }\n",
              "\n",
              "    .dataframe tbody tr th {\n",
              "        vertical-align: top;\n",
              "    }\n",
              "\n",
              "    .dataframe thead th {\n",
              "        text-align: right;\n",
              "    }\n",
              "</style>\n",
              "<table border=\"1\" class=\"dataframe\">\n",
              "  <thead>\n",
              "    <tr style=\"text-align: right;\">\n",
              "      <th></th>\n",
              "      <th>user</th>\n",
              "      <th>item</th>\n",
              "      <th>rating</th>\n",
              "      <th>timestamp</th>\n",
              "    </tr>\n",
              "  </thead>\n",
              "  <tbody>\n",
              "    <tr>\n",
              "      <th>0</th>\n",
              "      <td>196</td>\n",
              "      <td>242</td>\n",
              "      <td>3</td>\n",
              "      <td>881250949</td>\n",
              "    </tr>\n",
              "    <tr>\n",
              "      <th>1</th>\n",
              "      <td>186</td>\n",
              "      <td>302</td>\n",
              "      <td>3</td>\n",
              "      <td>891717742</td>\n",
              "    </tr>\n",
              "    <tr>\n",
              "      <th>2</th>\n",
              "      <td>22</td>\n",
              "      <td>377</td>\n",
              "      <td>1</td>\n",
              "      <td>878887116</td>\n",
              "    </tr>\n",
              "    <tr>\n",
              "      <th>3</th>\n",
              "      <td>244</td>\n",
              "      <td>51</td>\n",
              "      <td>2</td>\n",
              "      <td>880606923</td>\n",
              "    </tr>\n",
              "    <tr>\n",
              "      <th>4</th>\n",
              "      <td>166</td>\n",
              "      <td>346</td>\n",
              "      <td>1</td>\n",
              "      <td>886397596</td>\n",
              "    </tr>\n",
              "  </tbody>\n",
              "</table>\n",
              "</div>\n",
              "      <button class=\"colab-df-convert\" onclick=\"convertToInteractive('df-8b51bfe4-647e-4b6c-a990-462c03b42ba5')\"\n",
              "              title=\"Convert this dataframe to an interactive table.\"\n",
              "              style=\"display:none;\">\n",
              "        \n",
              "  <svg xmlns=\"http://www.w3.org/2000/svg\" height=\"24px\"viewBox=\"0 0 24 24\"\n",
              "       width=\"24px\">\n",
              "    <path d=\"M0 0h24v24H0V0z\" fill=\"none\"/>\n",
              "    <path d=\"M18.56 5.44l.94 2.06.94-2.06 2.06-.94-2.06-.94-.94-2.06-.94 2.06-2.06.94zm-11 1L8.5 8.5l.94-2.06 2.06-.94-2.06-.94L8.5 2.5l-.94 2.06-2.06.94zm10 10l.94 2.06.94-2.06 2.06-.94-2.06-.94-.94-2.06-.94 2.06-2.06.94z\"/><path d=\"M17.41 7.96l-1.37-1.37c-.4-.4-.92-.59-1.43-.59-.52 0-1.04.2-1.43.59L10.3 9.45l-7.72 7.72c-.78.78-.78 2.05 0 2.83L4 21.41c.39.39.9.59 1.41.59.51 0 1.02-.2 1.41-.59l7.78-7.78 2.81-2.81c.8-.78.8-2.07 0-2.86zM5.41 20L4 18.59l7.72-7.72 1.47 1.35L5.41 20z\"/>\n",
              "  </svg>\n",
              "      </button>\n",
              "      \n",
              "  <style>\n",
              "    .colab-df-container {\n",
              "      display:flex;\n",
              "      flex-wrap:wrap;\n",
              "      gap: 12px;\n",
              "    }\n",
              "\n",
              "    .colab-df-convert {\n",
              "      background-color: #E8F0FE;\n",
              "      border: none;\n",
              "      border-radius: 50%;\n",
              "      cursor: pointer;\n",
              "      display: none;\n",
              "      fill: #1967D2;\n",
              "      height: 32px;\n",
              "      padding: 0 0 0 0;\n",
              "      width: 32px;\n",
              "    }\n",
              "\n",
              "    .colab-df-convert:hover {\n",
              "      background-color: #E2EBFA;\n",
              "      box-shadow: 0px 1px 2px rgba(60, 64, 67, 0.3), 0px 1px 3px 1px rgba(60, 64, 67, 0.15);\n",
              "      fill: #174EA6;\n",
              "    }\n",
              "\n",
              "    [theme=dark] .colab-df-convert {\n",
              "      background-color: #3B4455;\n",
              "      fill: #D2E3FC;\n",
              "    }\n",
              "\n",
              "    [theme=dark] .colab-df-convert:hover {\n",
              "      background-color: #434B5C;\n",
              "      box-shadow: 0px 1px 3px 1px rgba(0, 0, 0, 0.15);\n",
              "      filter: drop-shadow(0px 1px 2px rgba(0, 0, 0, 0.3));\n",
              "      fill: #FFFFFF;\n",
              "    }\n",
              "  </style>\n",
              "\n",
              "      <script>\n",
              "        const buttonEl =\n",
              "          document.querySelector('#df-8b51bfe4-647e-4b6c-a990-462c03b42ba5 button.colab-df-convert');\n",
              "        buttonEl.style.display =\n",
              "          google.colab.kernel.accessAllowed ? 'block' : 'none';\n",
              "\n",
              "        async function convertToInteractive(key) {\n",
              "          const element = document.querySelector('#df-8b51bfe4-647e-4b6c-a990-462c03b42ba5');\n",
              "          const dataTable =\n",
              "            await google.colab.kernel.invokeFunction('convertToInteractive',\n",
              "                                                     [key], {});\n",
              "          if (!dataTable) return;\n",
              "\n",
              "          const docLinkHtml = 'Like what you see? Visit the ' +\n",
              "            '<a target=\"_blank\" href=https://colab.research.google.com/notebooks/data_table.ipynb>data table notebook</a>'\n",
              "            + ' to learn more about interactive tables.';\n",
              "          element.innerHTML = '';\n",
              "          dataTable['output_type'] = 'display_data';\n",
              "          await google.colab.output.renderOutput(dataTable, element);\n",
              "          const docLink = document.createElement('div');\n",
              "          docLink.innerHTML = docLinkHtml;\n",
              "          element.appendChild(docLink);\n",
              "        }\n",
              "      </script>\n",
              "    </div>\n",
              "  </div>\n",
              "  "
            ]
          },
          "metadata": {},
          "execution_count": 37
        }
      ]
    },
    {
      "cell_type": "markdown",
      "source": [
        "### **Importing and Instantiating the Algorithm**\n"
      ],
      "metadata": {
        "id": "hy99nL2OxH8g"
      }
    },
    {
      "cell_type": "code",
      "source": [
        "from lenskit.datasets import ML100K\n",
        "from lenskit import batch, topn, util, topn\n",
        "from lenskit import crossfold as xf\n",
        "from lenskit.algorithms import Recommender, als, item_knn as knn\n",
        "import pandas as pd\n",
        "%matplotlib inline\n",
        "from lenskit import topn"
      ],
      "metadata": {
        "id": "lw59fdh3p2gO"
      },
      "execution_count": 38,
      "outputs": []
    },
    {
      "cell_type": "markdown",
      "source": [
        "This code imports several modules and functions from the lenskit library, which is another library for building and evaluating recommendation systems.\n",
        "\n",
        "The first line imports the ML100K dataset class from lenskit.datasets, which is a wrapper for the ml-100k dataset that was loaded in the previous code snippet.\n",
        "\n",
        "The second line imports several functions and classes from lenskit, including batch, util, and topn, which are used for various tasks related to building and evaluating recommendation systems.\n",
        "\n",
        "The third line imports the crossfold module from lenskit, which contains functions for splitting datasets into training and test sets.\n",
        "\n",
        "The fourth and fifth lines import the Recommender class and two specific algorithms (als and item_knn) from lenskit.algorithms, which is a submodule of lenskit that contains implementations of various recommendation algorithms.\n",
        "\n",
        "The sixth line imports the pandas library, which is used for data manipulation and analysis.\n",
        "\n",
        "The seventh line sets up matplotlib to display plots inline.\n",
        "\n",
        "The eighth line imports topn from lenskit, which is a submodule containing functions for computing top-N recommendations.\n",
        "\n",
        "Overall, this code imports the necessary modules and functions to build and evaluate a recommendation system using lenskit."
      ],
      "metadata": {
        "id": "5Lg3VhGX2FAt"
      }
    },
    {
      "cell_type": "code",
      "source": [
        "algo_ii = knn.ItemItem(20)\n",
        "algo_als = als.BiasedMF(50)"
      ],
      "metadata": {
        "id": "0LCV6Bst9lBQ"
      },
      "execution_count": 39,
      "outputs": []
    },
    {
      "cell_type": "markdown",
      "source": [
        "These lines of code create two recommendation algorithms using lenskit.algorithms: ItemItem and BiasedMF.\n",
        "\n",
        "The first line creates an instance of ItemItem, which is an item-based collaborative filtering algorithm. knn stands for \"k-nearest neighbors\", and the ItemItem algorithm computes item-item similarity based on the k-nearest neighbors of each item. The 20 parameter specifies the number of nearest neighbors to consider for each item.\n",
        "\n",
        "The second line creates an instance of BiasedMF, which is a matrix factorization algorithm that incorporates biases for users and items. 50 specifies the number of latent factors to use in the matrix factorization model.\n",
        "\n",
        "These two algorithms can be used to generate recommendations for users based on their interactions with items.\n",
        "\n",
        "\n",
        "\n"
      ],
      "metadata": {
        "id": "Zu8y_kXH2RD2"
      }
    },
    {
      "cell_type": "markdown",
      "source": [
        "We import the necessary methods and initialise two algorithms :\n",
        "\n",
        "KNN\n",
        "Biased Matrix Factorization\n",
        "Now we will create a recommendation function and using the LensKit tools, we can also evaluate at the time of creation to save some memory space. To get a proper estimation, we will first generate a recommendation and then eventually evaluate it and compare it with the other algorithm.\n",
        "\n",
        "The following code will help to generate the recommendations in a modular format and can be reused for multiple algorithms. It will take the algorithm_name, Algorithm, train and test data as the input parameters."
      ],
      "metadata": {
        "id": "xhkkbXh-xDvg"
      }
    },
    {
      "cell_type": "code",
      "source": [
        "def eval(aname, algo, train, test):\n",
        "    fittable = util.clone(algo)\n",
        "    fittable = Recommender.adapt(fittable)\n",
        "    fittable.fit(train)\n",
        "    users = test.user.unique()\n",
        "    recs = batch.recommend(fittable, users, 100)\n",
        "    recs['Algorithm'] = aname\n",
        "    return recs"
      ],
      "metadata": {
        "id": "20edM-Sv90yw"
      },
      "execution_count": 40,
      "outputs": []
    },
    {
      "cell_type": "markdown",
      "source": [
        "This code defines a function called eval that can be used to evaluate a recommendation algorithm. The function takes four arguments:\n",
        "\n",
        "aname: A string representing the name of the algorithm being evaluated.\n",
        "\n",
        "algo: An instance of a recommendation algorithm (e.g., ItemItem, BiasedMF).\n",
        "\n",
        "train: A pandas DataFrame representing the training data, with columns user, item, and rating.\n",
        "\n",
        "test: A pandas DataFrame representing the test data, with columns user, item, and rating.\n",
        "\n",
        "The function first creates a copy of the algorithm using util.clone and Recommender.adapt. It then fits the algorithm to the training data using fittable.fit(train).\n",
        "\n",
        "Next, it generates recommendations for each user in the test set using batch.recommend(fittable, users, 100), which returns a DataFrame with columns user, item, score, and rank, where rank represents the position of the item in the recommendation list.\n",
        "\n",
        "Finally, the function adds a new column called Algorithm to the DataFrame containing the name of the algorithm being evaluated, and returns the DataFrame. This allows us to compare the performance of different algorithms using the same evaluation metric.\n",
        "\n",
        "\n",
        "\n"
      ],
      "metadata": {
        "id": "UABdJP8k2sTT"
      }
    },
    {
      "cell_type": "markdown",
      "source": [
        "### **Fitting the Recommendations**\n",
        "We can use the function to generate recommendations by a simple for loop which loops over the algorithms using the same dataset for a consistent scoring mechanism."
      ],
      "metadata": {
        "id": "k-3pwCt9xQRD"
      }
    },
    {
      "cell_type": "code",
      "source": [
        "all_recs = []\n",
        "test_data = []\n",
        "for train, test in xf.partition_users(ratings[['user', 'item', 'rating']], 5, xf.SampleFrac(0.2)):\n",
        "    test_data.append(test)\n",
        "    all_recs.append(eval('ItemItem', algo_ii, train, test))\n",
        "    all_recs.append(eval('ALS', algo_als, train, test))"
      ],
      "metadata": {
        "colab": {
          "base_uri": "https://localhost:8080/",
          "height": 240
        },
        "id": "HOIFMqbX97Y3",
        "outputId": "540afba9-d48d-4697-8d9a-c677c2a8f60d"
      },
      "execution_count": 1,
      "outputs": [
        {
          "output_type": "error",
          "ename": "NameError",
          "evalue": "ignored",
          "traceback": [
            "\u001b[0;31m---------------------------------------------------------------------------\u001b[0m",
            "\u001b[0;31mNameError\u001b[0m                                 Traceback (most recent call last)",
            "\u001b[0;32m<ipython-input-1-9cdcdd004b7c>\u001b[0m in \u001b[0;36m<cell line: 3>\u001b[0;34m()\u001b[0m\n\u001b[1;32m      1\u001b[0m \u001b[0mall_recs\u001b[0m \u001b[0;34m=\u001b[0m \u001b[0;34m[\u001b[0m\u001b[0;34m]\u001b[0m\u001b[0;34m\u001b[0m\u001b[0;34m\u001b[0m\u001b[0m\n\u001b[1;32m      2\u001b[0m \u001b[0mtest_data\u001b[0m \u001b[0;34m=\u001b[0m \u001b[0;34m[\u001b[0m\u001b[0;34m]\u001b[0m\u001b[0;34m\u001b[0m\u001b[0;34m\u001b[0m\u001b[0m\n\u001b[0;32m----> 3\u001b[0;31m \u001b[0;32mfor\u001b[0m \u001b[0mtrain\u001b[0m\u001b[0;34m,\u001b[0m \u001b[0mtest\u001b[0m \u001b[0;32min\u001b[0m \u001b[0mxf\u001b[0m\u001b[0;34m.\u001b[0m\u001b[0mpartition_users\u001b[0m\u001b[0;34m(\u001b[0m\u001b[0mratings\u001b[0m\u001b[0;34m[\u001b[0m\u001b[0;34m[\u001b[0m\u001b[0;34m'user'\u001b[0m\u001b[0;34m,\u001b[0m \u001b[0;34m'item'\u001b[0m\u001b[0;34m,\u001b[0m \u001b[0;34m'rating'\u001b[0m\u001b[0;34m]\u001b[0m\u001b[0;34m]\u001b[0m\u001b[0;34m,\u001b[0m \u001b[0;36m5\u001b[0m\u001b[0;34m,\u001b[0m \u001b[0mxf\u001b[0m\u001b[0;34m.\u001b[0m\u001b[0mSampleFrac\u001b[0m\u001b[0;34m(\u001b[0m\u001b[0;36m0.2\u001b[0m\u001b[0;34m)\u001b[0m\u001b[0;34m)\u001b[0m\u001b[0;34m:\u001b[0m\u001b[0;34m\u001b[0m\u001b[0;34m\u001b[0m\u001b[0m\n\u001b[0m\u001b[1;32m      4\u001b[0m     \u001b[0mtest_data\u001b[0m\u001b[0;34m.\u001b[0m\u001b[0mappend\u001b[0m\u001b[0;34m(\u001b[0m\u001b[0mtest\u001b[0m\u001b[0;34m)\u001b[0m\u001b[0;34m\u001b[0m\u001b[0;34m\u001b[0m\u001b[0m\n\u001b[1;32m      5\u001b[0m     \u001b[0mall_recs\u001b[0m\u001b[0;34m.\u001b[0m\u001b[0mappend\u001b[0m\u001b[0;34m(\u001b[0m\u001b[0meval\u001b[0m\u001b[0;34m(\u001b[0m\u001b[0;34m'ItemItem'\u001b[0m\u001b[0;34m,\u001b[0m \u001b[0malgo_ii\u001b[0m\u001b[0;34m,\u001b[0m \u001b[0mtrain\u001b[0m\u001b[0;34m,\u001b[0m \u001b[0mtest\u001b[0m\u001b[0;34m)\u001b[0m\u001b[0;34m)\u001b[0m\u001b[0;34m\u001b[0m\u001b[0;34m\u001b[0m\u001b[0m\n",
            "\u001b[0;31mNameError\u001b[0m: name 'xf' is not defined"
          ]
        }
      ]
    },
    {
      "cell_type": "markdown",
      "source": [
        "This code partitions the ratings DataFrame into 5 subsets using xf.partition_users, with each subset containing 20% of the ratings data for a randomly chosen set of users.\n",
        "\n",
        "For each subset, it generates recommendations using the eval function defined earlier for both the ItemItem and BiasedMF algorithms, and appends the results to the all_recs list. The test_data list also keeps track of the test set for each subset, which can be used later for evaluation.\n",
        "\n",
        "Overall, this code is generating recommendations and test sets for each partition of the ratings data, allowing us to evaluate the performance of the algorithms across multiple subsets of the data.\n",
        "\n",
        "\n",
        "\n"
      ],
      "metadata": {
        "id": "TXebNAQu26el"
      }
    },
    {
      "cell_type": "markdown",
      "source": [
        "### **Evaluating the Recommendations**\n",
        "Now we will move on to the results and compare them but first, we will merge them into one DataFrame."
      ],
      "metadata": {
        "id": "6Uv6ZYmPxVGb"
      }
    },
    {
      "cell_type": "code",
      "source": [
        "all_recs = pd.concat(all_recs, ignore_index=True)\n",
        "all_recs.head()"
      ],
      "metadata": {
        "colab": {
          "base_uri": "https://localhost:8080/",
          "height": 424
        },
        "id": "QufdURZk-e69",
        "outputId": "f4c22fa9-afd7-4d18-8475-e00d2590f631"
      },
      "execution_count": 45,
      "outputs": [
        {
          "output_type": "execute_result",
          "data": {
            "text/plain": [
              "    item     score  user  rank Algorithm\n",
              "0   1449  4.902015     2     1  ItemItem\n",
              "1    169  4.767381     2     2  ItemItem\n",
              "2    483  4.749626     2     3  ItemItem\n",
              "3   1191  4.737445     2     4  ItemItem\n",
              "4    408  4.711972     2     5  ItemItem\n",
              "..   ...       ...   ...   ...       ...\n",
              "95   514  4.234586     2    96  ItemItem\n",
              "96   170  4.231163     2    97  ItemItem\n",
              "97   520  4.231002     2    98  ItemItem\n",
              "98   510  4.228546     2    99  ItemItem\n",
              "99    22  4.225117     2   100  ItemItem\n",
              "\n",
              "[100 rows x 5 columns]"
            ],
            "text/html": [
              "\n",
              "  <div id=\"df-9d770992-ca4d-4552-b70e-e85023878478\">\n",
              "    <div class=\"colab-df-container\">\n",
              "      <div>\n",
              "<style scoped>\n",
              "    .dataframe tbody tr th:only-of-type {\n",
              "        vertical-align: middle;\n",
              "    }\n",
              "\n",
              "    .dataframe tbody tr th {\n",
              "        vertical-align: top;\n",
              "    }\n",
              "\n",
              "    .dataframe thead th {\n",
              "        text-align: right;\n",
              "    }\n",
              "</style>\n",
              "<table border=\"1\" class=\"dataframe\">\n",
              "  <thead>\n",
              "    <tr style=\"text-align: right;\">\n",
              "      <th></th>\n",
              "      <th>item</th>\n",
              "      <th>score</th>\n",
              "      <th>user</th>\n",
              "      <th>rank</th>\n",
              "      <th>Algorithm</th>\n",
              "    </tr>\n",
              "  </thead>\n",
              "  <tbody>\n",
              "    <tr>\n",
              "      <th>0</th>\n",
              "      <td>1449</td>\n",
              "      <td>4.902015</td>\n",
              "      <td>2</td>\n",
              "      <td>1</td>\n",
              "      <td>ItemItem</td>\n",
              "    </tr>\n",
              "    <tr>\n",
              "      <th>1</th>\n",
              "      <td>169</td>\n",
              "      <td>4.767381</td>\n",
              "      <td>2</td>\n",
              "      <td>2</td>\n",
              "      <td>ItemItem</td>\n",
              "    </tr>\n",
              "    <tr>\n",
              "      <th>2</th>\n",
              "      <td>483</td>\n",
              "      <td>4.749626</td>\n",
              "      <td>2</td>\n",
              "      <td>3</td>\n",
              "      <td>ItemItem</td>\n",
              "    </tr>\n",
              "    <tr>\n",
              "      <th>3</th>\n",
              "      <td>1191</td>\n",
              "      <td>4.737445</td>\n",
              "      <td>2</td>\n",
              "      <td>4</td>\n",
              "      <td>ItemItem</td>\n",
              "    </tr>\n",
              "    <tr>\n",
              "      <th>4</th>\n",
              "      <td>408</td>\n",
              "      <td>4.711972</td>\n",
              "      <td>2</td>\n",
              "      <td>5</td>\n",
              "      <td>ItemItem</td>\n",
              "    </tr>\n",
              "    <tr>\n",
              "      <th>...</th>\n",
              "      <td>...</td>\n",
              "      <td>...</td>\n",
              "      <td>...</td>\n",
              "      <td>...</td>\n",
              "      <td>...</td>\n",
              "    </tr>\n",
              "    <tr>\n",
              "      <th>95</th>\n",
              "      <td>514</td>\n",
              "      <td>4.234586</td>\n",
              "      <td>2</td>\n",
              "      <td>96</td>\n",
              "      <td>ItemItem</td>\n",
              "    </tr>\n",
              "    <tr>\n",
              "      <th>96</th>\n",
              "      <td>170</td>\n",
              "      <td>4.231163</td>\n",
              "      <td>2</td>\n",
              "      <td>97</td>\n",
              "      <td>ItemItem</td>\n",
              "    </tr>\n",
              "    <tr>\n",
              "      <th>97</th>\n",
              "      <td>520</td>\n",
              "      <td>4.231002</td>\n",
              "      <td>2</td>\n",
              "      <td>98</td>\n",
              "      <td>ItemItem</td>\n",
              "    </tr>\n",
              "    <tr>\n",
              "      <th>98</th>\n",
              "      <td>510</td>\n",
              "      <td>4.228546</td>\n",
              "      <td>2</td>\n",
              "      <td>99</td>\n",
              "      <td>ItemItem</td>\n",
              "    </tr>\n",
              "    <tr>\n",
              "      <th>99</th>\n",
              "      <td>22</td>\n",
              "      <td>4.225117</td>\n",
              "      <td>2</td>\n",
              "      <td>100</td>\n",
              "      <td>ItemItem</td>\n",
              "    </tr>\n",
              "  </tbody>\n",
              "</table>\n",
              "<p>100 rows × 5 columns</p>\n",
              "</div>\n",
              "      <button class=\"colab-df-convert\" onclick=\"convertToInteractive('df-9d770992-ca4d-4552-b70e-e85023878478')\"\n",
              "              title=\"Convert this dataframe to an interactive table.\"\n",
              "              style=\"display:none;\">\n",
              "        \n",
              "  <svg xmlns=\"http://www.w3.org/2000/svg\" height=\"24px\"viewBox=\"0 0 24 24\"\n",
              "       width=\"24px\">\n",
              "    <path d=\"M0 0h24v24H0V0z\" fill=\"none\"/>\n",
              "    <path d=\"M18.56 5.44l.94 2.06.94-2.06 2.06-.94-2.06-.94-.94-2.06-.94 2.06-2.06.94zm-11 1L8.5 8.5l.94-2.06 2.06-.94-2.06-.94L8.5 2.5l-.94 2.06-2.06.94zm10 10l.94 2.06.94-2.06 2.06-.94-2.06-.94-.94-2.06-.94 2.06-2.06.94z\"/><path d=\"M17.41 7.96l-1.37-1.37c-.4-.4-.92-.59-1.43-.59-.52 0-1.04.2-1.43.59L10.3 9.45l-7.72 7.72c-.78.78-.78 2.05 0 2.83L4 21.41c.39.39.9.59 1.41.59.51 0 1.02-.2 1.41-.59l7.78-7.78 2.81-2.81c.8-.78.8-2.07 0-2.86zM5.41 20L4 18.59l7.72-7.72 1.47 1.35L5.41 20z\"/>\n",
              "  </svg>\n",
              "      </button>\n",
              "      \n",
              "  <style>\n",
              "    .colab-df-container {\n",
              "      display:flex;\n",
              "      flex-wrap:wrap;\n",
              "      gap: 12px;\n",
              "    }\n",
              "\n",
              "    .colab-df-convert {\n",
              "      background-color: #E8F0FE;\n",
              "      border: none;\n",
              "      border-radius: 50%;\n",
              "      cursor: pointer;\n",
              "      display: none;\n",
              "      fill: #1967D2;\n",
              "      height: 32px;\n",
              "      padding: 0 0 0 0;\n",
              "      width: 32px;\n",
              "    }\n",
              "\n",
              "    .colab-df-convert:hover {\n",
              "      background-color: #E2EBFA;\n",
              "      box-shadow: 0px 1px 2px rgba(60, 64, 67, 0.3), 0px 1px 3px 1px rgba(60, 64, 67, 0.15);\n",
              "      fill: #174EA6;\n",
              "    }\n",
              "\n",
              "    [theme=dark] .colab-df-convert {\n",
              "      background-color: #3B4455;\n",
              "      fill: #D2E3FC;\n",
              "    }\n",
              "\n",
              "    [theme=dark] .colab-df-convert:hover {\n",
              "      background-color: #434B5C;\n",
              "      box-shadow: 0px 1px 3px 1px rgba(0, 0, 0, 0.15);\n",
              "      filter: drop-shadow(0px 1px 2px rgba(0, 0, 0, 0.3));\n",
              "      fill: #FFFFFF;\n",
              "    }\n",
              "  </style>\n",
              "\n",
              "      <script>\n",
              "        const buttonEl =\n",
              "          document.querySelector('#df-9d770992-ca4d-4552-b70e-e85023878478 button.colab-df-convert');\n",
              "        buttonEl.style.display =\n",
              "          google.colab.kernel.accessAllowed ? 'block' : 'none';\n",
              "\n",
              "        async function convertToInteractive(key) {\n",
              "          const element = document.querySelector('#df-9d770992-ca4d-4552-b70e-e85023878478');\n",
              "          const dataTable =\n",
              "            await google.colab.kernel.invokeFunction('convertToInteractive',\n",
              "                                                     [key], {});\n",
              "          if (!dataTable) return;\n",
              "\n",
              "          const docLinkHtml = 'Like what you see? Visit the ' +\n",
              "            '<a target=\"_blank\" href=https://colab.research.google.com/notebooks/data_table.ipynb>data table notebook</a>'\n",
              "            + ' to learn more about interactive tables.';\n",
              "          element.innerHTML = '';\n",
              "          dataTable['output_type'] = 'display_data';\n",
              "          await google.colab.output.renderOutput(dataTable, element);\n",
              "          const docLink = document.createElement('div');\n",
              "          docLink.innerHTML = docLinkHtml;\n",
              "          element.appendChild(docLink);\n",
              "        }\n",
              "      </script>\n",
              "    </div>\n",
              "  </div>\n",
              "  "
            ]
          },
          "metadata": {},
          "execution_count": 45
        }
      ]
    },
    {
      "cell_type": "markdown",
      "source": [
        "We can see that their output can be added to the dataset and we have a specific score with each item and the algorithm used to recommend those values. To get better results we can concatenate all the test data together into one singular Data Frame.\n",
        "\n",
        "This code concatenates all the recommendation DataFrames generated in the previous step into a single DataFrame using pd.concat, with ignore_index=True to reset the index of the resulting DataFrame. The resulting DataFrame all_recs contains columns for user, item, score, rank, and Algorithm, where score represents the predicted rating and rank represents the position of the item in the recommendation list.\n",
        "\n",
        "Calling .head() on all_recs shows the first five rows of the DataFrame.\n",
        "\n",
        "\n",
        "\n"
      ],
      "metadata": {
        "id": "jziFN0rexbpv"
      }
    },
    {
      "cell_type": "code",
      "source": [
        "test_data = pd.concat(test_data, ignore_index=True)"
      ],
      "metadata": {
        "id": "pKz0V60X-88c"
      },
      "execution_count": 48,
      "outputs": []
    },
    {
      "cell_type": "markdown",
      "source": [
        "This code concatenates all the test set DataFrames generated in the first step into a single DataFrame using pd.concat, with ignore_index=True to reset the index of the resulting DataFrame. The resulting DataFrame test_data contains columns for user, item, and rating, where rating represents the actual rating given by the user.\n",
        "\n",
        "This step is necessary for evaluating the performance of the recommendation algorithms, as we need to compare the predicted ratings with the actual ratings in the test set.\n",
        "\n"
      ],
      "metadata": {
        "id": "ahwHq4Op3fLB"
      }
    },
    {
      "cell_type": "code",
      "source": [
        "test_data.head()"
      ],
      "metadata": {
        "colab": {
          "base_uri": "https://localhost:8080/",
          "height": 206
        },
        "id": "9VL09CQQI5V4",
        "outputId": "e6a181cf-45ae-4fd4-aad7-4fca50c7f186"
      },
      "execution_count": 49,
      "outputs": [
        {
          "output_type": "execute_result",
          "data": {
            "text/plain": [
              "   user  item  rating\n",
              "0     2   296       3\n",
              "1     2   283       5\n",
              "2     2   111       4\n",
              "3     2   281       3\n",
              "4     2   275       5"
            ],
            "text/html": [
              "\n",
              "  <div id=\"df-6ac76da7-02ab-4c60-98e8-e5e5d97b67a6\">\n",
              "    <div class=\"colab-df-container\">\n",
              "      <div>\n",
              "<style scoped>\n",
              "    .dataframe tbody tr th:only-of-type {\n",
              "        vertical-align: middle;\n",
              "    }\n",
              "\n",
              "    .dataframe tbody tr th {\n",
              "        vertical-align: top;\n",
              "    }\n",
              "\n",
              "    .dataframe thead th {\n",
              "        text-align: right;\n",
              "    }\n",
              "</style>\n",
              "<table border=\"1\" class=\"dataframe\">\n",
              "  <thead>\n",
              "    <tr style=\"text-align: right;\">\n",
              "      <th></th>\n",
              "      <th>user</th>\n",
              "      <th>item</th>\n",
              "      <th>rating</th>\n",
              "    </tr>\n",
              "  </thead>\n",
              "  <tbody>\n",
              "    <tr>\n",
              "      <th>0</th>\n",
              "      <td>2</td>\n",
              "      <td>296</td>\n",
              "      <td>3</td>\n",
              "    </tr>\n",
              "    <tr>\n",
              "      <th>1</th>\n",
              "      <td>2</td>\n",
              "      <td>283</td>\n",
              "      <td>5</td>\n",
              "    </tr>\n",
              "    <tr>\n",
              "      <th>2</th>\n",
              "      <td>2</td>\n",
              "      <td>111</td>\n",
              "      <td>4</td>\n",
              "    </tr>\n",
              "    <tr>\n",
              "      <th>3</th>\n",
              "      <td>2</td>\n",
              "      <td>281</td>\n",
              "      <td>3</td>\n",
              "    </tr>\n",
              "    <tr>\n",
              "      <th>4</th>\n",
              "      <td>2</td>\n",
              "      <td>275</td>\n",
              "      <td>5</td>\n",
              "    </tr>\n",
              "  </tbody>\n",
              "</table>\n",
              "</div>\n",
              "      <button class=\"colab-df-convert\" onclick=\"convertToInteractive('df-6ac76da7-02ab-4c60-98e8-e5e5d97b67a6')\"\n",
              "              title=\"Convert this dataframe to an interactive table.\"\n",
              "              style=\"display:none;\">\n",
              "        \n",
              "  <svg xmlns=\"http://www.w3.org/2000/svg\" height=\"24px\"viewBox=\"0 0 24 24\"\n",
              "       width=\"24px\">\n",
              "    <path d=\"M0 0h24v24H0V0z\" fill=\"none\"/>\n",
              "    <path d=\"M18.56 5.44l.94 2.06.94-2.06 2.06-.94-2.06-.94-.94-2.06-.94 2.06-2.06.94zm-11 1L8.5 8.5l.94-2.06 2.06-.94-2.06-.94L8.5 2.5l-.94 2.06-2.06.94zm10 10l.94 2.06.94-2.06 2.06-.94-2.06-.94-.94-2.06-.94 2.06-2.06.94z\"/><path d=\"M17.41 7.96l-1.37-1.37c-.4-.4-.92-.59-1.43-.59-.52 0-1.04.2-1.43.59L10.3 9.45l-7.72 7.72c-.78.78-.78 2.05 0 2.83L4 21.41c.39.39.9.59 1.41.59.51 0 1.02-.2 1.41-.59l7.78-7.78 2.81-2.81c.8-.78.8-2.07 0-2.86zM5.41 20L4 18.59l7.72-7.72 1.47 1.35L5.41 20z\"/>\n",
              "  </svg>\n",
              "      </button>\n",
              "      \n",
              "  <style>\n",
              "    .colab-df-container {\n",
              "      display:flex;\n",
              "      flex-wrap:wrap;\n",
              "      gap: 12px;\n",
              "    }\n",
              "\n",
              "    .colab-df-convert {\n",
              "      background-color: #E8F0FE;\n",
              "      border: none;\n",
              "      border-radius: 50%;\n",
              "      cursor: pointer;\n",
              "      display: none;\n",
              "      fill: #1967D2;\n",
              "      height: 32px;\n",
              "      padding: 0 0 0 0;\n",
              "      width: 32px;\n",
              "    }\n",
              "\n",
              "    .colab-df-convert:hover {\n",
              "      background-color: #E2EBFA;\n",
              "      box-shadow: 0px 1px 2px rgba(60, 64, 67, 0.3), 0px 1px 3px 1px rgba(60, 64, 67, 0.15);\n",
              "      fill: #174EA6;\n",
              "    }\n",
              "\n",
              "    [theme=dark] .colab-df-convert {\n",
              "      background-color: #3B4455;\n",
              "      fill: #D2E3FC;\n",
              "    }\n",
              "\n",
              "    [theme=dark] .colab-df-convert:hover {\n",
              "      background-color: #434B5C;\n",
              "      box-shadow: 0px 1px 3px 1px rgba(0, 0, 0, 0.15);\n",
              "      filter: drop-shadow(0px 1px 2px rgba(0, 0, 0, 0.3));\n",
              "      fill: #FFFFFF;\n",
              "    }\n",
              "  </style>\n",
              "\n",
              "      <script>\n",
              "        const buttonEl =\n",
              "          document.querySelector('#df-6ac76da7-02ab-4c60-98e8-e5e5d97b67a6 button.colab-df-convert');\n",
              "        buttonEl.style.display =\n",
              "          google.colab.kernel.accessAllowed ? 'block' : 'none';\n",
              "\n",
              "        async function convertToInteractive(key) {\n",
              "          const element = document.querySelector('#df-6ac76da7-02ab-4c60-98e8-e5e5d97b67a6');\n",
              "          const dataTable =\n",
              "            await google.colab.kernel.invokeFunction('convertToInteractive',\n",
              "                                                     [key], {});\n",
              "          if (!dataTable) return;\n",
              "\n",
              "          const docLinkHtml = 'Like what you see? Visit the ' +\n",
              "            '<a target=\"_blank\" href=https://colab.research.google.com/notebooks/data_table.ipynb>data table notebook</a>'\n",
              "            + ' to learn more about interactive tables.';\n",
              "          element.innerHTML = '';\n",
              "          dataTable['output_type'] = 'display_data';\n",
              "          await google.colab.output.renderOutput(dataTable, element);\n",
              "          const docLink = document.createElement('div');\n",
              "          docLink.innerHTML = docLinkHtml;\n",
              "          element.appendChild(docLink);\n",
              "        }\n",
              "      </script>\n",
              "    </div>\n",
              "  </div>\n",
              "  "
            ]
          },
          "metadata": {},
          "execution_count": 49
        }
      ]
    },
    {
      "cell_type": "markdown",
      "source": [
        "Now we will use a toll known as RecListAnalysis to analyse our recommendation which will help us to list all our recommendations and tests accordingly. We will use this to evaluate the nDCG values."
      ],
      "metadata": {
        "id": "ag-iAVZExf-T"
      }
    },
    {
      "cell_type": "markdown",
      "source": [
        "the normalized discounted cumulative gain (NDCG) is defined as ratio of the\n",
        "discounted cumulative gain to its ideal value, which is also referred to as ideal discounted\n",
        "cumulative gain (IDCG).\n",
        "\n",
        "\\begin{equation}\n",
        "NDCG = \\frac{DCG}{IDCG}\n",
        "\\end{equation}\n",
        "\n",
        "\n",
        "\n",
        "\n",
        "\n",
        "\n",
        "\\begin{equation}\n",
        "DCG = \\frac{1}{m}\\sum_{u=1}^{m} \\sum_{j\\in I_u, v_j \\leq L}\n",
        "\\frac{g_{uj}}{\\log_2(v_j+1)} \n",
        "\\end{equation}\n",
        "\n",
        "\n",
        "\n",
        "\n",
        "\n",
        "\\begin{equation}\n",
        "g_{uj} = 2^{rel_{uj}-1} \n",
        "\\end{equation}\n",
        "\n",
        " vj is the\n",
        "rank of item j in the test set Iu\n",
        "\n",
        "guj represents the utility (or gain) of the user u in consuming item j. Typically, the\n",
        "value of guj is set to an exponential function of the relevance (e.g., non-negative ratings or\n",
        "user hit rates)\n",
        "\n",
        "reluj is the ground-truth relevance of item j for user u, which is computed as a\n",
        "heuristic function of the ratings or hits. In many settings, the raw ratings are used. It is\n",
        "common to compute the discounted cumulative gain over a recommendation list of specific\n",
        "size L, rather than using all the items\n",
        "\n",
        "ideal discounted\n",
        "cumulative gain (IDCG).\n",
        "\n",
        "The ideal discounted cumulative gain is computed by repeating the computation for DCG,\n",
        "except that the ground-truth rankings are used in the computation.\n",
        "\n"
      ],
      "metadata": {
        "id": "DVKjzKExN9Q1"
      }
    },
    {
      "cell_type": "code",
      "source": [
        "rla = topn.RecListAnalysis()\n",
        "rla.add_metric(topn.ndcg)\n",
        "results = rla.compute(all_recs, test_data)\n",
        "results.head()"
      ],
      "metadata": {
        "colab": {
          "base_uri": "https://localhost:8080/",
          "height": 238
        },
        "id": "Wmbm2dF2-0uk",
        "outputId": "fe0da0cd-69ca-4f9c-c941-7258462c52c5"
      },
      "execution_count": 51,
      "outputs": [
        {
          "output_type": "execute_result",
          "data": {
            "text/plain": [
              "                nrecs      ndcg\n",
              "Algorithm user                 \n",
              "ItemItem  2       100  0.062155\n",
              "          3       100  0.000000\n",
              "          4       100  0.000000\n",
              "          5       100  0.205500\n",
              "          6       100  0.334029"
            ],
            "text/html": [
              "\n",
              "  <div id=\"df-ab2db4f1-e83f-4fa6-b742-3c30529f9ee4\">\n",
              "    <div class=\"colab-df-container\">\n",
              "      <div>\n",
              "<style scoped>\n",
              "    .dataframe tbody tr th:only-of-type {\n",
              "        vertical-align: middle;\n",
              "    }\n",
              "\n",
              "    .dataframe tbody tr th {\n",
              "        vertical-align: top;\n",
              "    }\n",
              "\n",
              "    .dataframe thead th {\n",
              "        text-align: right;\n",
              "    }\n",
              "</style>\n",
              "<table border=\"1\" class=\"dataframe\">\n",
              "  <thead>\n",
              "    <tr style=\"text-align: right;\">\n",
              "      <th></th>\n",
              "      <th></th>\n",
              "      <th>nrecs</th>\n",
              "      <th>ndcg</th>\n",
              "    </tr>\n",
              "    <tr>\n",
              "      <th>Algorithm</th>\n",
              "      <th>user</th>\n",
              "      <th></th>\n",
              "      <th></th>\n",
              "    </tr>\n",
              "  </thead>\n",
              "  <tbody>\n",
              "    <tr>\n",
              "      <th rowspan=\"5\" valign=\"top\">ItemItem</th>\n",
              "      <th>2</th>\n",
              "      <td>100</td>\n",
              "      <td>0.062155</td>\n",
              "    </tr>\n",
              "    <tr>\n",
              "      <th>3</th>\n",
              "      <td>100</td>\n",
              "      <td>0.000000</td>\n",
              "    </tr>\n",
              "    <tr>\n",
              "      <th>4</th>\n",
              "      <td>100</td>\n",
              "      <td>0.000000</td>\n",
              "    </tr>\n",
              "    <tr>\n",
              "      <th>5</th>\n",
              "      <td>100</td>\n",
              "      <td>0.205500</td>\n",
              "    </tr>\n",
              "    <tr>\n",
              "      <th>6</th>\n",
              "      <td>100</td>\n",
              "      <td>0.334029</td>\n",
              "    </tr>\n",
              "  </tbody>\n",
              "</table>\n",
              "</div>\n",
              "      <button class=\"colab-df-convert\" onclick=\"convertToInteractive('df-ab2db4f1-e83f-4fa6-b742-3c30529f9ee4')\"\n",
              "              title=\"Convert this dataframe to an interactive table.\"\n",
              "              style=\"display:none;\">\n",
              "        \n",
              "  <svg xmlns=\"http://www.w3.org/2000/svg\" height=\"24px\"viewBox=\"0 0 24 24\"\n",
              "       width=\"24px\">\n",
              "    <path d=\"M0 0h24v24H0V0z\" fill=\"none\"/>\n",
              "    <path d=\"M18.56 5.44l.94 2.06.94-2.06 2.06-.94-2.06-.94-.94-2.06-.94 2.06-2.06.94zm-11 1L8.5 8.5l.94-2.06 2.06-.94-2.06-.94L8.5 2.5l-.94 2.06-2.06.94zm10 10l.94 2.06.94-2.06 2.06-.94-2.06-.94-.94-2.06-.94 2.06-2.06.94z\"/><path d=\"M17.41 7.96l-1.37-1.37c-.4-.4-.92-.59-1.43-.59-.52 0-1.04.2-1.43.59L10.3 9.45l-7.72 7.72c-.78.78-.78 2.05 0 2.83L4 21.41c.39.39.9.59 1.41.59.51 0 1.02-.2 1.41-.59l7.78-7.78 2.81-2.81c.8-.78.8-2.07 0-2.86zM5.41 20L4 18.59l7.72-7.72 1.47 1.35L5.41 20z\"/>\n",
              "  </svg>\n",
              "      </button>\n",
              "      \n",
              "  <style>\n",
              "    .colab-df-container {\n",
              "      display:flex;\n",
              "      flex-wrap:wrap;\n",
              "      gap: 12px;\n",
              "    }\n",
              "\n",
              "    .colab-df-convert {\n",
              "      background-color: #E8F0FE;\n",
              "      border: none;\n",
              "      border-radius: 50%;\n",
              "      cursor: pointer;\n",
              "      display: none;\n",
              "      fill: #1967D2;\n",
              "      height: 32px;\n",
              "      padding: 0 0 0 0;\n",
              "      width: 32px;\n",
              "    }\n",
              "\n",
              "    .colab-df-convert:hover {\n",
              "      background-color: #E2EBFA;\n",
              "      box-shadow: 0px 1px 2px rgba(60, 64, 67, 0.3), 0px 1px 3px 1px rgba(60, 64, 67, 0.15);\n",
              "      fill: #174EA6;\n",
              "    }\n",
              "\n",
              "    [theme=dark] .colab-df-convert {\n",
              "      background-color: #3B4455;\n",
              "      fill: #D2E3FC;\n",
              "    }\n",
              "\n",
              "    [theme=dark] .colab-df-convert:hover {\n",
              "      background-color: #434B5C;\n",
              "      box-shadow: 0px 1px 3px 1px rgba(0, 0, 0, 0.15);\n",
              "      filter: drop-shadow(0px 1px 2px rgba(0, 0, 0, 0.3));\n",
              "      fill: #FFFFFF;\n",
              "    }\n",
              "  </style>\n",
              "\n",
              "      <script>\n",
              "        const buttonEl =\n",
              "          document.querySelector('#df-ab2db4f1-e83f-4fa6-b742-3c30529f9ee4 button.colab-df-convert');\n",
              "        buttonEl.style.display =\n",
              "          google.colab.kernel.accessAllowed ? 'block' : 'none';\n",
              "\n",
              "        async function convertToInteractive(key) {\n",
              "          const element = document.querySelector('#df-ab2db4f1-e83f-4fa6-b742-3c30529f9ee4');\n",
              "          const dataTable =\n",
              "            await google.colab.kernel.invokeFunction('convertToInteractive',\n",
              "                                                     [key], {});\n",
              "          if (!dataTable) return;\n",
              "\n",
              "          const docLinkHtml = 'Like what you see? Visit the ' +\n",
              "            '<a target=\"_blank\" href=https://colab.research.google.com/notebooks/data_table.ipynb>data table notebook</a>'\n",
              "            + ' to learn more about interactive tables.';\n",
              "          element.innerHTML = '';\n",
              "          dataTable['output_type'] = 'display_data';\n",
              "          await google.colab.output.renderOutput(dataTable, element);\n",
              "          const docLink = document.createElement('div');\n",
              "          docLink.innerHTML = docLinkHtml;\n",
              "          element.appendChild(docLink);\n",
              "        }\n",
              "      </script>\n",
              "    </div>\n",
              "  </div>\n",
              "  "
            ]
          },
          "metadata": {},
          "execution_count": 51
        }
      ]
    },
    {
      "cell_type": "markdown",
      "source": [
        "We have got out nDCG values in a proper DataFrame format which has been evaluated by the two algorithms and we will evaluate which algorithm has given us the best overall nDCG value\n",
        "\n",
        "This code computes the nDCG (Normalized Discounted Cumulative Gain) metric for the recommendation lists generated by the different algorithms, using topn.RecListAnalysis().\n",
        "\n",
        "rla.add_metric(topn.ndcg) adds the nDCG metric to the analysis. topn.ndcg is a function from the lenskit.topn module that computes the nDCG metric for a set of ranked recommendations.\n",
        "\n",
        "rla.compute(all_recs, test_data) computes the nDCG metric for the recommendation lists generated by the different algorithms, using the all_recs DataFrame and test_data DataFrame. The resulting DataFrame results contains columns for Algorithm, user, ndcg, and nrecs, where ndcg represents the nDCG score and nrecs represents the number of recommendations for each user.\n",
        "\n",
        "Calling .head() on results displays the first five rows of the DataFrame, showing the nDCG score and number of recommendations for each user and algorithm.\n",
        "\n",
        "\n",
        "\n"
      ],
      "metadata": {
        "id": "W2z9CVbNxkna"
      }
    },
    {
      "cell_type": "code",
      "source": [
        "results.groupby('Algorithm').ndcg.mean()"
      ],
      "metadata": {
        "colab": {
          "base_uri": "https://localhost:8080/"
        },
        "id": "XmNs9eOu_ReC",
        "outputId": "c9842e05-6ff5-479c-87c8-83fe4af164f4"
      },
      "execution_count": 29,
      "outputs": [
        {
          "output_type": "execute_result",
          "data": {
            "text/plain": [
              "Algorithm\n",
              "ALS         0.136151\n",
              "ItemItem    0.100473\n",
              "Name: ndcg, dtype: float64"
            ]
          },
          "metadata": {},
          "execution_count": 29
        }
      ]
    },
    {
      "cell_type": "markdown",
      "source": [
        "This code groups the results DataFrame by the Algorithm column and computes the mean nDCG score for each algorithm using the .ndcg.mean() function.\n",
        "\n",
        "The result is a pandas Series object with the mean nDCG score for each algorithm. This is useful for comparing the performance of the different algorithms and selecting the best one for a given use case."
      ],
      "metadata": {
        "id": "WgTiI3O432k-"
      }
    },
    {
      "cell_type": "markdown",
      "source": [
        "Now we will visualise our output and find the result."
      ],
      "metadata": {
        "id": "trlxxcs0xnvY"
      }
    },
    {
      "cell_type": "code",
      "source": [
        "results.groupby('Algorithm').ndcg.mean().plot.bar()"
      ],
      "metadata": {
        "colab": {
          "base_uri": "https://localhost:8080/",
          "height": 516
        },
        "id": "GmPWE_et_VbH",
        "outputId": "2f3245e3-8795-4cc2-ec11-2335f94c3b46"
      },
      "execution_count": 30,
      "outputs": [
        {
          "output_type": "execute_result",
          "data": {
            "text/plain": [
              "<Axes: xlabel='Algorithm'>"
            ]
          },
          "metadata": {},
          "execution_count": 30
        },
        {
          "output_type": "display_data",
          "data": {
            "text/plain": [
              "<Figure size 640x480 with 1 Axes>"
            ],
            "image/png": "[encoded data removed]"
          },
          "metadata": {}
        }
      ]
    },
    {
      "cell_type": "markdown",
      "source": [
        "This code creates a bar plot of the mean nDCG score for each algorithm.\n",
        "\n",
        "The .groupby() method groups the results DataFrame by the Algorithm column, and the .ndcg.mean() function computes the mean nDCG score for each group. The resulting Series object is then plotted as a bar chart using the .plot.bar() function.\n",
        "\n",
        "This visualization allows for easy comparison of the performance of the different algorithms in terms of their mean nDCG score.\n"
      ],
      "metadata": {
        "id": "41gFBEFU38KP"
      }
    },
    {
      "cell_type": "markdown",
      "source": [
        "After analysing the two algorithms, we can find out that the ALS or Alternative Least Square algorithm is having the larger nDCG value.\n",
        "\n",
        "### **Conslusion**\n",
        "So in this article, we discussed two algorithms and found out the better recommendation algorithm but this can be scaled to multiple algorithms and multiple datasets to find out the best overall algorithm or at least one algorithm which can excel over one. Feel free to do more research and tag me in future articles/code regarding this and will be more than eager to continue with this work."
      ],
      "metadata": {
        "id": "hgNNva00xsA0"
      }
    }
  ]
}